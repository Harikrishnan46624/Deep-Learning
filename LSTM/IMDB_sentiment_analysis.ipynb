{
  "nbformat": 4,
  "nbformat_minor": 0,
  "metadata": {
    "colab": {
      "name": "IMDB_sentiment_analysis.ipynb",
      "provenance": [],
      "collapsed_sections": []
    },
    "kernelspec": {
      "name": "python3",
      "display_name": "Python 3"
    },
    "language_info": {
      "name": "python"
    },
    "accelerator": "GPU"
  },
  "cells": [
    {
      "cell_type": "code",
      "metadata": {
        "colab": {
          "base_uri": "https://localhost:8080/",
          "height": 0
        },
        "id": "q9q8gFckPAnx",
        "outputId": "bd1a00f6-dde8-4fe0-94b8-df37bf2baddd"
      },
      "source": [
        "import numpy as np\n",
        "import pandas as pd\n",
        "from keras.preprocessing.text import one_hot\n",
        "from keras.preprocessing.sequence import pad_sequences\n",
        "from keras.models import Sequential\n",
        "from keras.callbacks import Callback\n",
        "from sklearn.model_selection import train_test_split\n",
        "from keras.layers import Dense,Embedding,LSTM\n",
        "\n",
        "print(\"All Dependencies Installed !\")"
      ],
      "execution_count": 31,
      "outputs": [
        {
          "output_type": "stream",
          "text": [
            "All Dependencies Installed !\n"
          ],
          "name": "stdout"
        }
      ]
    },
    {
      "cell_type": "code",
      "metadata": {
        "colab": {
          "base_uri": "https://localhost:8080/",
          "height": 0
        },
        "id": "lnd_fzt9PVY3",
        "outputId": "bb3f7a5d-26bd-4721-bad7-19c2473bb5da"
      },
      "source": [
        "df = pd.read_csv(\"/content/drive/MyDrive/IMDB Dataset.csv\")\n",
        "df[\"sentiment\"].replace({\"positive\": 1, \"negative\": 0}, inplace=True)\n",
        "\n",
        "x = np.array(df[\"review\"].values)\n",
        "y = np.array(df[\"sentiment\"].values)\n",
        "\n",
        "x_filtered = []\n",
        "\n",
        "for review in x:\n",
        "\n",
        "    #lowercasing the sentence\n",
        "    review = review.lower()\n",
        "\n",
        "    # removing punctuations from sentence\n",
        "    for i in review:\n",
        "        punc = '''  !()-[]{};:'\"\\,<>./?@#$%^&*_~  '''\n",
        "        if i in punc :\n",
        "            review = review.replace(i, \" \")\n",
        "\n",
        "    x_filtered.append(review)\n",
        "\n",
        "print(\"Data Preparation Stage-1 completed !\")"
      ],
      "execution_count": 32,
      "outputs": [
        {
          "output_type": "stream",
          "text": [
            "Data Preparation Stage-1 completed !\n"
          ],
          "name": "stdout"
        }
      ]
    },
    {
      "cell_type": "code",
      "metadata": {
        "colab": {
          "base_uri": "https://localhost:8080/",
          "height": 0
        },
        "id": "0squ_d1lPjam",
        "outputId": "8f019021-0854-4860-ce0d-da53a0352949"
      },
      "source": [
        "# One-Hot Encoding each sentence\n",
        "vocalbulary_size = 5000\n",
        "onehot_encoded = [one_hot(review,vocalbulary_size) for review in x_filtered]\n",
        "\n",
        "# Padding each encoded sentence to have a max_length=500\n",
        "max_length=500\n",
        "x_padded = pad_sequences(onehot_encoded,max_length,padding=\"post\")\n",
        "\n",
        "x_train,x_test,y_train,y_test = train_test_split(x_padded,y,test_size=0.2)\n",
        "\n",
        "print(\"Data Preparation Stage-2 completed !\")"
      ],
      "execution_count": 33,
      "outputs": [
        {
          "output_type": "stream",
          "text": [
            "Data Preparation Stage-2 completed !\n"
          ],
          "name": "stdout"
        }
      ]
    },
    {
      "cell_type": "code",
      "metadata": {
        "colab": {
          "base_uri": "https://localhost:8080/",
          "height": 0
        },
        "id": "CevnJRv7PqGm",
        "outputId": "3ffe0123-7fb3-48af-cf52-385b643457af"
      },
      "source": [
        "model = Sequential()\n",
        "embeded_vector_size = 35\n",
        "model.add(Embedding(vocalbulary_size,embeded_vector_size,input_length=max_length))\n",
        "model.add(LSTM(100))\n",
        "model.add(Dense(1,activation=\"sigmoid\"))\n",
        "\n",
        "model.compile(optimizer='adam', loss='binary_crossentropy',metrics=[\"accuracy\"])\n",
        "\n",
        "print(model.summary())\n",
        "print(\"Model Creation Completed !\")\n"
      ],
      "execution_count": 34,
      "outputs": [
        {
          "output_type": "stream",
          "text": [
            "Model: \"sequential_6\"\n",
            "_________________________________________________________________\n",
            "Layer (type)                 Output Shape              Param #   \n",
            "=================================================================\n",
            "embedding_6 (Embedding)      (None, 500, 35)           175000    \n",
            "_________________________________________________________________\n",
            "lstm_6 (LSTM)                (None, 100)               54400     \n",
            "_________________________________________________________________\n",
            "dense_6 (Dense)              (None, 1)                 101       \n",
            "=================================================================\n",
            "Total params: 229,501\n",
            "Trainable params: 229,501\n",
            "Non-trainable params: 0\n",
            "_________________________________________________________________\n",
            "None\n",
            "Model Creation Completed !\n"
          ],
          "name": "stdout"
        }
      ]
    },
    {
      "cell_type": "code",
      "metadata": {
        "id": "vmANiwZ5P2Pu"
      },
      "source": [
        "# Custom Keras callback to stop training when certain accuracy is achieved.\n",
        "class MyThresholdCallback(Callback):\n",
        "    def __init__(self, threshold):\n",
        "        super(MyThresholdCallback, self).__init__()\n",
        "        self.threshold = threshold\n",
        "\n",
        "    def on_epoch_end(self, epoch, logs=None):\n",
        "        val_acc = logs[\"val_accuracy\"]\n",
        "        if val_acc >= self.threshold:\n",
        "            self.model.stop_training = True\n",
        "            model_name = (\"IMDB_sentiment_analysis_\"+str(val_acc))\n",
        "            model.save(model_name)\n",
        "\n",
        "# Model converges at 0.87 accuracy with current hyperparameters.\n",
        "model.fit(x_train,y_train,epochs=100,validation_data=(x_test,y_test),callbacks=[MyThresholdCallback(threshold=0.87)])\n",
        "\n",
        "# model.save(\"IMDB_sentiment_analysis\")\n",
        "\n",
        "print(\"Model Training Completed !\")"
      ],
      "execution_count": null,
      "outputs": []
    },
    {
      "cell_type": "code",
      "metadata": {
        "colab": {
          "base_uri": "https://localhost:8080/",
          "height": 0
        },
        "id": "PYSyzEDLgmrv",
        "outputId": "c77d2246-7a1c-4280-9b4e-414b9b1f89bc"
      },
      "source": [
        "from keras.models import load_model\n",
        "\n",
        "trained_model = load_model(\"/content/IMDB_sentiment_analysis_0.8787999749183655\")\n",
        "predicted = trained_model.predict(x_test)[2]\n",
        "\n",
        "sentiment = 1 if predicted > 0.6 else 0\n",
        "\n",
        "print(\"PREDICTED : \",sentiment)\n",
        "print(\"ACTUAL : \",y_test[2])\n",
        "\n",
        "\n",
        "\n"
      ],
      "execution_count": 45,
      "outputs": [
        {
          "output_type": "stream",
          "text": [
            "PREDICTED :  1\n",
            "ACTUAL :  1\n"
          ],
          "name": "stdout"
        }
      ]
    },
    {
      "cell_type": "code",
      "metadata": {
        "colab": {
          "base_uri": "https://localhost:8080/"
        },
        "id": "fMJd1hrmi-ZT",
        "outputId": "2f848668-4c55-4f3f-8355-59310ab35446"
      },
      "source": [
        "\n",
        "def get_sentiment(sentence: str):\n",
        "    if isinstance(sentence, (str)):\n",
        "        pass\n",
        "    else:\n",
        "        raise Exception(\"Input needs to be of type 'str' \")\n",
        "\n",
        "    # filtering the sentence\n",
        "    sentence = sentence.lower()\n",
        "\n",
        "    punc = '''!()-[]{};:'\"\\, <>./?@#$%^&*_~'''\n",
        "\n",
        "    for word in sentence:\n",
        "        if word in punc:\n",
        "            sentence = sentence.replace(word, \" \")\n",
        "\n",
        "    # Loading the saved trained model.\n",
        "    from keras.models import load_model\n",
        "\n",
        "    trained_model = load_model(\"/content/IMDB_sentiment_analysis_0.8787999749183655\")\n",
        "\n",
        "    predicted = trained_model.predict(x_test)[2]\n",
        "    sentiment = 1 if predicted > 0.6 else 0\n",
        "\n",
        "    if sentiment == 1:\n",
        "        print(\"Positive\")\n",
        "    else:\n",
        "        print(\"Negative\")\n",
        "\n",
        "    return sentiment\n",
        "\n",
        "\n",
        "get_sentiment(\"That movie was really good!\")\n"
      ],
      "execution_count": 81,
      "outputs": [
        {
          "output_type": "stream",
          "text": [
            "Positive\n"
          ],
          "name": "stdout"
        },
        {
          "output_type": "execute_result",
          "data": {
            "text/plain": [
              "1"
            ]
          },
          "metadata": {
            "tags": []
          },
          "execution_count": 81
        }
      ]
    }
  ]
}