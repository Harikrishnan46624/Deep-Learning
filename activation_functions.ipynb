{
 "cells": [
  {
   "cell_type": "markdown",
   "id": "e2568c4e-c91f-4919-a834-b1b4ca85dc4b",
   "metadata": {},
   "source": [
    "Sigmoid"
   ]
  },
  {
   "cell_type": "markdown",
   "id": "7293e165-e7bf-49d3-bf2b-c54be38d5158",
   "metadata": {},
   "source": [
    "sigmoid = 1 / (1 + e^-z)"
   ]
  },
  {
   "cell_type": "code",
   "execution_count": 1,
   "id": "f9c61afb-483b-4e06-bc37-30eb6b66ea58",
   "metadata": {},
   "outputs": [],
   "source": [
    "import math"
   ]
  },
  {
   "cell_type": "code",
   "execution_count": 2,
   "id": "f87a81b2-13c1-433e-9ca0-6ecbf37b9837",
   "metadata": {},
   "outputs": [],
   "source": [
    "def sigmoid(x):\n",
    "    return 1 / (1 + math.exp(-x))"
   ]
  },
  {
   "cell_type": "code",
   "execution_count": 3,
   "id": "ff183f04-2744-4d71-accf-942cd3bb0f62",
   "metadata": {},
   "outputs": [
    {
     "data": {
      "text/plain": [
       "1.0"
      ]
     },
     "execution_count": 3,
     "metadata": {},
     "output_type": "execute_result"
    }
   ],
   "source": [
    "sigmoid(100)"
   ]
  },
  {
   "cell_type": "code",
   "execution_count": 4,
   "id": "823c29c5-29ef-4f85-ad0e-9f3039e9e061",
   "metadata": {},
   "outputs": [
    {
     "data": {
      "text/plain": [
       "0.7310585786300049"
      ]
     },
     "execution_count": 4,
     "metadata": {},
     "output_type": "execute_result"
    }
   ],
   "source": [
    "sigmoid(1)"
   ]
  },
  {
   "cell_type": "code",
   "execution_count": 5,
   "id": "07b34da4-8501-4dfa-82df-767f374558b6",
   "metadata": {},
   "outputs": [
    {
     "data": {
      "text/plain": [
       "4.780892883885469e-25"
      ]
     },
     "execution_count": 5,
     "metadata": {},
     "output_type": "execute_result"
    }
   ],
   "source": [
    "sigmoid(-56)"
   ]
  },
  {
   "cell_type": "code",
   "execution_count": 6,
   "id": "6ff42e49-1517-4779-8a53-94c25c1f0780",
   "metadata": {},
   "outputs": [
    {
     "data": {
      "text/plain": [
       "0.6224593312018546"
      ]
     },
     "execution_count": 6,
     "metadata": {},
     "output_type": "execute_result"
    }
   ],
   "source": [
    "sigmoid(0.5)"
   ]
  },
  {
   "cell_type": "markdown",
   "id": "b2cedfeb-809a-40d1-be9e-952ff978293c",
   "metadata": {},
   "source": [
    "tanh"
   ]
  },
  {
   "cell_type": "code",
   "execution_count": 9,
   "id": "6f47c771-641c-46d7-90e2-1eb6e8f4bf3c",
   "metadata": {},
   "outputs": [],
   "source": [
    "def tanh(x):\n",
    "    return (math.exp(x) - math.exp(-x)) / (math.exp(x) + math.exp(-x))"
   ]
  },
  {
   "cell_type": "code",
   "execution_count": 10,
   "id": "7dccf016-14ef-42d2-9b89-05dd75875eeb",
   "metadata": {},
   "outputs": [
    {
     "data": {
      "text/plain": [
       "-1.0"
      ]
     },
     "execution_count": 10,
     "metadata": {},
     "output_type": "execute_result"
    }
   ],
   "source": [
    "tanh(-56)"
   ]
  },
  {
   "cell_type": "code",
   "execution_count": 11,
   "id": "198feef9-1648-4f32-aecb-6cdc7640f712",
   "metadata": {},
   "outputs": [
    {
     "data": {
      "text/plain": [
       "1.0"
      ]
     },
     "execution_count": 11,
     "metadata": {},
     "output_type": "execute_result"
    }
   ],
   "source": [
    "tanh(50)"
   ]
  },
  {
   "cell_type": "code",
   "execution_count": 12,
   "id": "50aa7b5c-9bac-4c0c-92c6-459ca5df17d6",
   "metadata": {},
   "outputs": [
    {
     "data": {
      "text/plain": [
       "0.7615941559557649"
      ]
     },
     "execution_count": 12,
     "metadata": {},
     "output_type": "execute_result"
    }
   ],
   "source": [
    "tanh(1)"
   ]
  },
  {
   "cell_type": "markdown",
   "id": "6a279fa5-9ffa-4632-9bae-5c0e59253864",
   "metadata": {},
   "source": [
    "ReLU"
   ]
  },
  {
   "cell_type": "markdown",
   "id": "956ab0d7-345a-45f7-9935-e1af4882f18e",
   "metadata": {},
   "source": [
    "f(x)=max(0,x)"
   ]
  },
  {
   "cell_type": "code",
   "execution_count": 13,
   "id": "c689ef53-005c-4089-89c8-90ac2c610fab",
   "metadata": {},
   "outputs": [],
   "source": [
    "def relux(x):\n",
    "    return max(0, x)"
   ]
  },
  {
   "cell_type": "code",
   "execution_count": 14,
   "id": "c4b7743f-de67-4633-89db-358d844269d1",
   "metadata": {},
   "outputs": [
    {
     "data": {
      "text/plain": [
       "0"
      ]
     },
     "execution_count": 14,
     "metadata": {},
     "output_type": "execute_result"
    }
   ],
   "source": [
    "relux(-100)"
   ]
  },
  {
   "cell_type": "code",
   "execution_count": 15,
   "id": "677868ed-fe7a-4197-a669-c26203538bc5",
   "metadata": {},
   "outputs": [
    {
     "data": {
      "text/plain": [
       "8"
      ]
     },
     "execution_count": 15,
     "metadata": {},
     "output_type": "execute_result"
    }
   ],
   "source": [
    "relux(8)"
   ]
  },
  {
   "cell_type": "markdown",
   "id": "89fe610b-e8f6-4b46-8596-ef45b988a435",
   "metadata": {},
   "source": [
    "Leaky ReLU\n"
   ]
  },
  {
   "cell_type": "markdown",
   "id": "cb62b3ce-7dc7-4dc8-ad9a-32a6e4bc023d",
   "metadata": {},
   "source": [
    "f(x)=max(αx,x), where \n",
    "α is a small positive constant"
   ]
  },
  {
   "cell_type": "code",
   "execution_count": 16,
   "id": "abac0333-adcd-424a-8eef-cb0c5ab1143e",
   "metadata": {},
   "outputs": [],
   "source": [
    "def leaky_relux(x):\n",
    "    return max(0.1 * x, x)"
   ]
  },
  {
   "cell_type": "code",
   "execution_count": 17,
   "id": "2cc7cd21-7c06-4912-a4e2-150577246e26",
   "metadata": {},
   "outputs": [
    {
     "data": {
      "text/plain": [
       "-10.0"
      ]
     },
     "execution_count": 17,
     "metadata": {},
     "output_type": "execute_result"
    }
   ],
   "source": [
    "leaky_relux(-100)"
   ]
  },
  {
   "cell_type": "code",
   "execution_count": 18,
   "id": "861cb6a8-66c5-452f-83d8-a4b9b60c0e8d",
   "metadata": {},
   "outputs": [
    {
     "data": {
      "text/plain": [
       "8"
      ]
     },
     "execution_count": 18,
     "metadata": {},
     "output_type": "execute_result"
    }
   ],
   "source": [
    "leaky_relux(8)"
   ]
  },
  {
   "cell_type": "code",
   "execution_count": null,
   "id": "87023ad1-6d51-4b99-8a8e-65814713b960",
   "metadata": {},
   "outputs": [],
   "source": []
  }
 ],
 "metadata": {
  "kernelspec": {
   "display_name": "Python 3 (ipykernel)",
   "language": "python",
   "name": "python3"
  },
  "language_info": {
   "codemirror_mode": {
    "name": "ipython",
    "version": 3
   },
   "file_extension": ".py",
   "mimetype": "text/x-python",
   "name": "python",
   "nbconvert_exporter": "python",
   "pygments_lexer": "ipython3",
   "version": "3.11.7"
  }
 },
 "nbformat": 4,
 "nbformat_minor": 5
}
