{
 "cells": [
  {
   "cell_type": "code",
   "execution_count": 1,
   "id": "00123472-089d-4914-8518-b48e3710a5f7",
   "metadata": {},
   "outputs": [],
   "source": [
    "import numpy as np"
   ]
  },
  {
   "cell_type": "code",
   "execution_count": null,
   "id": "5c922c2f-a2f7-4c78-8701-36c092c3414b",
   "metadata": {},
   "outputs": [],
   "source": [
    "class NeuralNetwork:\n",
    "    def __init__(self, input, output, hidden):\n",
    "        self.input_hidden = np.random(input, hidden)\n",
    "        self.bias_hidden = np.zeros(1, hidden)\n",
    "        self.weight_hidden = np.random(hidden))\n",
    "        self.bias_output = np.zeros(1, output)\n",
    "\n",
    "    def sigmoid(self, x):\n",
    "        return 1 / (1 + np.exp(-x))\n",
    "    def sigmoid_dervative(self, x)\n",
    "        return x * (1-x)\n",
    "    def forward(self, X):\n",
    "        self.hidden_output = self.sigmoid()\n",
    "        self.prediction = self.sigmoid()\n",
    "        return self"
   ]
  }
 ],
 "metadata": {
  "kernelspec": {
   "display_name": "Python 3 (ipykernel)",
   "language": "python",
   "name": "python3"
  },
  "language_info": {
   "codemirror_mode": {
    "name": "ipython",
    "version": 3
   },
   "file_extension": ".py",
   "mimetype": "text/x-python",
   "name": "python",
   "nbconvert_exporter": "python",
   "pygments_lexer": "ipython3",
   "version": "3.11.7"
  },
  "widgets": {
   "application/vnd.jupyter.widget-state+json": {
    "state": {},
    "version_major": 2,
    "version_minor": 0
   }
  }
 },
 "nbformat": 4,
 "nbformat_minor": 5
}
